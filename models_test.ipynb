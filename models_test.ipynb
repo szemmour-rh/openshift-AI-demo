{
 "cells": [
  {
   "cell_type": "code",
   "execution_count": 1,
   "id": "179bbfd9-c306-4ebd-bd71-85617b1453e8",
   "metadata": {
    "tags": []
   },
   "outputs": [
    {
     "name": "stdout",
     "output_type": "stream",
     "text": [
      "ONNX Model Prediction:\n",
      "   PassengerId  Prediction\n",
      "0          892           0\n",
      "\n",
      "Scikit-learn Model Prediction:\n",
      "   PassengerId  Prediction\n",
      "0          892           0\n"
     ]
    }
   ],
   "source": [
    "import onnxruntime as rt\n",
    "import numpy as np\n",
    "import pandas as pd\n",
    "import joblib\n",
    "\n",
    "# Load the original scikit-learn model for comparison\n",
    "sklearn_model = joblib.load('titanic_logistic_model.pkl')\n",
    "\n",
    "# Load the ONNX model\n",
    "onnx_model_path = \"titanic_logistic_model.onnx\"\n",
    "sess = rt.InferenceSession(onnx_model_path)\n",
    "\n",
    "# Create a sample input for prediction including PassengerId\n",
    "sample_data = pd.DataFrame({\n",
    "    'PassengerId': [892],  # Include for tracking\n",
    "    'Pclass': [3],\n",
    "    'Sex': [0],  # 0 for male\n",
    "    'Age': [34.5],\n",
    "    'SibSp': [0],\n",
    "    'Parch': [0],\n",
    "    'Fare': [7.8292],\n",
    "    'Embarked_Q': [0],  # 0 for not Queenstown\n",
    "    'Embarked_S': [1]   # 1 for Southampton\n",
    "})\n",
    "\n",
    "# Store PassengerId in a variable\n",
    "passenger_id = sample_data['PassengerId'].iloc[0]\n",
    "\n",
    "# Drop PassengerId from sample_data for prediction\n",
    "sample_data = sample_data.drop(columns=['PassengerId'])\n",
    "\n",
    "# Convert the input data to the expected format (numpy array with dtype=float32)\n",
    "input_data = sample_data.to_numpy().astype(np.float32)\n",
    "\n",
    "# Get the input and output names for the ONNX model\n",
    "input_name = sess.get_inputs()[0].name\n",
    "output_name = sess.get_outputs()[0].name\n",
    "\n",
    "# Run inference on the ONNX model\n",
    "onnx_prediction = sess.run([output_name], {input_name: input_data})\n",
    "\n",
    "# Create a DataFrame for the output with PassengerId and Prediction\n",
    "onnx_results = pd.DataFrame({\n",
    "    'PassengerId': [passenger_id],  # Use the variable\n",
    "    'Prediction': [onnx_prediction[0][0]]  # Take the first prediction from ONNX output\n",
    "})\n",
    "\n",
    "# Output the results from ONNX model\n",
    "print(\"ONNX Model Prediction:\")\n",
    "print(onnx_results)\n",
    "\n",
    "# For comparison, run inference using the scikit-learn model\n",
    "sklearn_prediction = sklearn_model.predict(sample_data)\n",
    "\n",
    "# Create a DataFrame for the output with PassengerId and Prediction\n",
    "sklearn_results = pd.DataFrame({\n",
    "    'PassengerId': [passenger_id],  # Use the variable\n",
    "    'Prediction': sklearn_prediction\n",
    "})\n",
    "\n",
    "# Output the results from the scikit-learn model\n",
    "print(\"\\nScikit-learn Model Prediction:\")\n",
    "print(sklearn_results)\n"
   ]
  }
 ],
 "metadata": {
  "kernelspec": {
   "display_name": "Python 3.9",
   "language": "python",
   "name": "python3"
  },
  "language_info": {
   "codemirror_mode": {
    "name": "ipython",
    "version": 3
   },
   "file_extension": ".py",
   "mimetype": "text/x-python",
   "name": "python",
   "nbconvert_exporter": "python",
   "pygments_lexer": "ipython3",
   "version": "3.9.16"
  }
 },
 "nbformat": 4,
 "nbformat_minor": 5
}
