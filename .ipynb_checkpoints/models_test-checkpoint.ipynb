{
 "cells": [
  {
   "cell_type": "code",
   "execution_count": null,
   "id": "179bbfd9-c306-4ebd-bd71-85617b1453e8",
   "metadata": {},
   "outputs": [],
   "source": [
    "import pandas as pd\n",
    "\n",
    "# Create a sample input for prediction including PassengerId\n",
    "sample_data = pd.DataFrame({\n",
    "    'PassengerId': [892],  # Include for tracking\n",
    "    'Pclass': [3],\n",
    "    'Sex': [0],  # 0 for male\n",
    "    'Age': [34.5],\n",
    "    'SibSp': [0],\n",
    "    'Parch': [0],\n",
    "    'Fare': [7.8292],\n",
    "    'Embarked_Q': [0],  # 0 for not Queenstown\n",
    "    'Embarked_S': [1]   # 1 for Southampton\n",
    "})\n",
    "\n",
    "# Store PassengerId in a variable\n",
    "passenger_id = sample_data['PassengerId'].iloc[0]\n",
    "\n",
    "# Drop PassengerId from sample_data for prediction\n",
    "sample_data = sample_data.drop(columns=['PassengerId'])\n",
    "\n",
    "# Predict using the model\n",
    "prediction = model.predict(sample_data)\n",
    "\n",
    "# Create a DataFrame for the output with PassengerId and Prediction\n",
    "results = pd.DataFrame({\n",
    "    'PassengerId': [passenger_id],  # Use the variable\n",
    "    'Prediction': prediction\n",
    "})\n",
    "\n",
    "# Output the results\n",
    "print(results)\n"
   ]
  }
 ],
 "metadata": {
  "kernelspec": {
   "display_name": "Python 3.9",
   "language": "python",
   "name": "python3"
  },
  "language_info": {
   "codemirror_mode": {
    "name": "ipython",
    "version": 3
   },
   "file_extension": ".py",
   "mimetype": "text/x-python",
   "name": "python",
   "nbconvert_exporter": "python",
   "pygments_lexer": "ipython3",
   "version": "3.9.16"
  }
 },
 "nbformat": 4,
 "nbformat_minor": 5
}
